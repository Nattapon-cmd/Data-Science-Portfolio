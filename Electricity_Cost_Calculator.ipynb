{
  "nbformat": 4,
  "nbformat_minor": 0,
  "metadata": {
    "colab": {
      "provenance": [],
      "authorship_tag": "ABX9TyO4jGZTuPqXmIqGDOG+wXDQ",
      "include_colab_link": true
    },
    "kernelspec": {
      "name": "python3",
      "display_name": "Python 3"
    },
    "language_info": {
      "name": "python"
    }
  },
  "cells": [
    {
      "cell_type": "markdown",
      "metadata": {
        "id": "view-in-github",
        "colab_type": "text"
      },
      "source": [
        "<a href=\"https://colab.research.google.com/github/Nattapon-cmd/Data-Science-Portfolio/blob/main/Electricity_Cost_Calculator.ipynb\" target=\"_parent\"><img src=\"https://colab.research.google.com/assets/colab-badge.svg\" alt=\"Open In Colab\"/></a>"
      ]
    },
    {
      "cell_type": "code",
      "execution_count": null,
      "metadata": {
        "colab": {
          "base_uri": "https://localhost:8080/"
        },
        "id": "inkH01Fj95Bu",
        "outputId": "fe294b03-ea1e-4129-dadf-fe823f6655a7"
      },
      "outputs": [
        {
          "output_type": "stream",
          "name": "stdout",
          "text": [
            "Electricity Usage: 150.5 kwh\n",
            "Price per Unit: 3.9 Baht \n",
            "Total Electricity Cost: 586.95 Baht\n"
          ]
        }
      ],
      "source": [
        "def get_electricity_cost(usage_kwh, kwh_price):\n",
        "     \"\"\"\n",
        "     Calculates the total electricity cost based on usage and price per unit.\n",
        "\n",
        "     Parameters:\n",
        "     usage_kwh (float): The amount of electricity used in kilowatt-hours (kWh).\n",
        "     kwh_price (float): The price of electricity per unit (Bath/kWh).\n",
        "\n",
        "     Returns:\n",
        "     float: The calculated total electricity used cost.\n",
        "     \"\"\"\n",
        "\n",
        "     # Calculate the total electricity cost\n",
        "     cost = usage_kwh * kwh_price\n",
        "\n",
        "     return cost\n",
        "\n",
        "# --- Example of function usage ---\n",
        "\n",
        "# Define the electricity usage and price per unit\n",
        "electricity_usage = 150.5\n",
        "price_per_kwh = 3.90\n",
        "\n",
        "# Call the function to calculate the electricity bill\n",
        "total_cost = get_electricity_cost(electricity_usage, price_per_kwh)\n",
        "\n",
        "# Display the results\n",
        "print(f\"Electricity Usage: {electricity_usage} kwh\")\n",
        "print(f\"Price per Unit: {price_per_kwh} Baht \")\n",
        "print(f\"Total Electricity Cost: {total_cost:.2f} Baht\")\n"
      ]
    }
  ]
}