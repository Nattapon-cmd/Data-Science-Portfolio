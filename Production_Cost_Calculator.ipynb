{
  "nbformat": 4,
  "nbformat_minor": 0,
  "metadata": {
    "colab": {
      "provenance": [],
      "authorship_tag": "ABX9TyNT+YTu6FDYjlnXKy5XS46b",
      "include_colab_link": true
    },
    "kernelspec": {
      "name": "python3",
      "display_name": "Python 3"
    },
    "language_info": {
      "name": "python"
    }
  },
  "cells": [
    {
      "cell_type": "markdown",
      "metadata": {
        "id": "view-in-github",
        "colab_type": "text"
      },
      "source": [
        "<a href=\"https://colab.research.google.com/github/Nattapon-cmd/Data-Science-Portfolio/blob/main/Production_Cost_Calculator.ipynb\" target=\"_parent\"><img src=\"https://colab.research.google.com/assets/colab-badge.svg\" alt=\"Open In Colab\"/></a>"
      ]
    },
    {
      "cell_type": "code",
      "source": [
        "def calculate_production_cost(\n",
        "    num_machines,\n",
        "    cans_per_machine_per_hour,\n",
        "    energy_per_machine_per_hour,\n",
        "    cost_per_unit,\n",
        "    target_cans):\n",
        "    \"\"\"\n",
        "    Calculates the total electricity cost for orange juice production.\n",
        "\n",
        "    Parameters:\n",
        "    - num_machines (int): The total number of machines.\n",
        "    - cans_per_machine_per_hour (int): The number of cans produced per machine per hour.\n",
        "    - energy_per_machine_per_hour (int): The energy consumed per machine per hour (units).\n",
        "    - cost_per_unit (float): The cost of electricity per unit (baht).\n",
        "    - target_cans (int): The total number of cans to be produced.\n",
        "\n",
        "    Returns:\n",
        "    - total_cost (float): The total electricity cost (baht).\n",
        "    \"\"\"\n",
        "    # Calculate the total production rate of the factory\n",
        "    total_cans_per_hour = num_machines * cans_per_machine_per_hour\n",
        "\n",
        "    # Prevent division by zero if the production rate is 0\n",
        "    if total_cans_per_hour == 0:\n",
        "        return 0\n",
        "\n",
        "    # Calculate the total production time (hours)\n",
        "    total_hours = target_cans / total_cans_per_hour\n",
        "\n",
        "    # Calculate the total electricity cost per hour\n",
        "    total_energy_per_hour = num_machines * energy_per_machine_per_hour\n",
        "    cost_per_hour = total_energy_per_hour * cost_per_unit\n",
        "\n",
        "    # Calculate the total electricity cost for the entire production\n",
        "    total_cost = total_hours * cost_per_hour\n",
        "\n",
        "    return total_cost\n",
        "\n",
        "# --- Main part of the program that takes user input ---\n",
        "if __name__ == \"__main__\":\n",
        "    print(\"--- Juice Production Electricity Cost Calculator ---\")\n",
        "\n",
        "    try:\n",
        "        # Get user input\n",
        "        num_machines = int(input(\"Please enter the number of production machines: \"))\n",
        "        cans_per_machine = int(input(\"Please enter the number of cans produced per machine per hour: \"))\n",
        "        energy_per_machine = int(input(\"Please enter the energy consumed per machine per hour (units): \"))\n",
        "        cost_per_unit = float(input(\"Please enter electricity cost per unit (baht): \"))\n",
        "        target_cans = int(input(\"Please enter the total number of cans to be produced: \"))\n",
        "\n",
        "        # Call the function to calculate the cost\n",
        "        total_cost = calculate_production_cost(\n",
        "            num_machines,\n",
        "            cans_per_machine,\n",
        "            energy_per_machine,\n",
        "            cost_per_unit,\n",
        "            target_cans\n",
        "        )\n",
        "\n",
        "        # Display the result\n",
        "        if total_cost > 0:\n",
        "            print(\"\\n--- Result ---\")\n",
        "            print(f\"The total electricity cost to produce {target_cans} cans is {total_cost:.2f} baht.\")\n",
        "        else:\n",
        "            print(\"\\nCalculation not possible (may be due to zero machines or zero production target).\")\n",
        "\n",
        "    except ValueError:\n",
        "        print(\"Error: Please enter numbers only.\")"
      ],
      "metadata": {
        "colab": {
          "base_uri": "https://localhost:8080/"
        },
        "id": "RNtNkmgo-tJF",
        "outputId": "b09a4767-a451-4a49-f6db-8bc5dc95424c"
      },
      "execution_count": 1,
      "outputs": [
        {
          "output_type": "stream",
          "name": "stdout",
          "text": [
            "--- Juice Production Electricity Cost Calculator ---\n",
            "Please enter the number of production machines: 5\n",
            "Please enter the number of cans produced per machine per hour: 2000\n",
            "Please enter the energy consumed per machine per hour (units): 15\n",
            "Please enter electricity cost per unit (baht): 4.5\n",
            "Please enter the total number of cans to be produced: 500000\n",
            "\n",
            "--- Result ---\n",
            "The total electricity cost to produce 500000 cans is 16875.00 baht.\n"
          ]
        }
      ]
    }
  ]
}