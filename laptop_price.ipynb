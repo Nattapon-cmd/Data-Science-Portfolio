{
  "nbformat": 4,
  "nbformat_minor": 0,
  "metadata": {
    "colab": {
      "provenance": [],
      "authorship_tag": "ABX9TyNZnvPK++cqTGdCY6RooIj4",
      "include_colab_link": true
    },
    "kernelspec": {
      "name": "python3",
      "display_name": "Python 3"
    },
    "language_info": {
      "name": "python"
    }
  },
  "cells": [
    {
      "cell_type": "markdown",
      "metadata": {
        "id": "view-in-github",
        "colab_type": "text"
      },
      "source": [
        "<a href=\"https://colab.research.google.com/github/Nattapon-cmd/Data-Science-Portfolio/blob/main/laptop_price.ipynb\" target=\"_parent\"><img src=\"https://colab.research.google.com/assets/colab-badge.svg\" alt=\"Open In Colab\"/></a>"
      ]
    },
    {
      "cell_type": "code",
      "execution_count": null,
      "metadata": {
        "colab": {
          "base_uri": "https://localhost:8080/"
        },
        "id": "Lvm5FccBmOVo",
        "outputId": "731556e1-d4d5-4dd5-ac06-cbc3e3ddece4"
      },
      "outputs": [
        {
          "output_type": "stream",
          "name": "stdout",
          "text": [
            "The price of a 2023 laptop with 16GB RAM is: 29000.00 Baht\n",
            "The price of a 2025 laptop with 32GB RAM is: 45000.00 Baht\n"
          ]
        }
      ],
      "source": [
        "def calculate_laptop_price(release_year, ram_size_gb):\n",
        "    \"\"\"\n",
        "    Calculates the final price of a laptop based on its age and RAM size.\n",
        "    \"\"\"\n",
        "    # Set the current year\n",
        "    current_year = 2025\n",
        "    # Calculate the number of years the laptop is old\n",
        "    years_old = current_year - release_year\n",
        "    # Base price\n",
        "    base_price = 25000\n",
        "\n",
        "    # Discount based on the age of the laptop\n",
        "    age_deduction = years_old * 3000\n",
        "    # Price increase based on RAM size\n",
        "    ram_increase = (ram_size_gb / 8) * 5000\n",
        "    # Calculate the final price\n",
        "    final_price = base_price - age_deduction + ram_increase\n",
        "    return final_price\n",
        "\n",
        "#---Example Usage---  <-- โค้ดส่วนนี้ต้องไม่ถูกเยื้อง\n",
        "# call the function with different values and print the results to see it work.\n",
        "\n",
        "# Example 1: A 2-year-old laptop with 16 GB of RAM\n",
        "price_example_1 = calculate_laptop_price(release_year=2023, ram_size_gb=16)\n",
        "print(f\"The price of a 2023 laptop with 16GB RAM is: {price_example_1:.2f} Baht\")\n",
        "\n",
        "# Example 2: A brand new 2025 laptop with 32 of RAM\n",
        "price_example_2 = calculate_laptop_price(release_year=2025, ram_size_gb=32)\n",
        "print(f\"The price of a 2025 laptop with 32GB RAM is: {price_example_2:.2f} Baht\")"
      ]
    }
  ]
}