{
  "nbformat": 4,
  "nbformat_minor": 0,
  "metadata": {
    "colab": {
      "provenance": [],
      "authorship_tag": "ABX9TyMzjETIKScC8q0sNz3q0EVa",
      "include_colab_link": true
    },
    "kernelspec": {
      "name": "python3",
      "display_name": "Python 3"
    },
    "language_info": {
      "name": "python"
    }
  },
  "cells": [
    {
      "cell_type": "markdown",
      "metadata": {
        "id": "view-in-github",
        "colab_type": "text"
      },
      "source": [
        "<a href=\"https://colab.research.google.com/github/Nattapon-cmd/Data-Science-Portfolio/blob/main/laptop_price_predictor.ipynb\" target=\"_parent\"><img src=\"https://colab.research.google.com/assets/colab-badge.svg\" alt=\"Open In Colab\"/></a>"
      ]
    },
    {
      "cell_type": "code",
      "execution_count": null,
      "metadata": {
        "id": "NJWsjFNu0J7z",
        "colab": {
          "base_uri": "https://localhost:8080/"
        },
        "outputId": "3213e154-2289-426d-a00d-8ff77447eee9"
      },
      "outputs": [
        {
          "output_type": "stream",
          "name": "stdout",
          "text": [
            "Option 1: price is 35000 THB\n",
            "Option 2: Price is 57000 THB\n",
            "Option 3: Price is 25000 THB\n",
            "Option 4: Price is 103000 THB\n"
          ]
        }
      ],
      "source": [
        "# Part 1 : Define the function calculate the laptop price.\n",
        "# This function is a simplified model for demonstration.\n",
        "def calculate_laptop_price(year, ram_gb):\n",
        "      \"\"\"\n",
        "      Calculates the laptop price based on the year and RAM.\n",
        "      This is a simplified example.\n",
        "      \"\"\"\n",
        "      # Set a base price for the calculation (e.g., in Thai Bath).\n",
        "      base_price = 25000\n",
        "\n",
        "      # Apply a discount factor for older models.\n",
        "      year_factor = (2025 - year) * 2000\n",
        "\n",
        "      # Add a cost factor for more RAM.\n",
        "      ram_factor = (ram_gb - 8) * 1500\n",
        "\n",
        "     # Calculate the final price.\n",
        "      price = base_price - year_factor + ram_factor\n",
        "\n",
        "     # Ensure the price doesn't drop  below a minimum value.\n",
        "      return max(price, 10000)\n",
        "# Part  2: Call the function for each laptop option and store the results.\n",
        "# option 1: 2024 laptop, 16 GB RAM\n",
        "laptop_option_1 = calculate_laptop_price(2024, 16)\n",
        "\n",
        "# option 2: 2023 laptop, 32 GB RAM\n",
        "laptop_option_2 = calculate_laptop_price(2023, 32)\n",
        "\n",
        "# option 3: 2025 laptop, 8 GB RAM\n",
        "laptop_option_3 = calculate_laptop_price(2025, 8)\n",
        "\n",
        "#option 4: 2022 laptop, 64 GB RAM\n",
        "laptop_option_4 = calculate_laptop_price(2022, 64)\n",
        "\n",
        "# Part 3: Display the results.\n",
        "print(f\"Option 1: price is {laptop_option_1} THB\")\n",
        "print(f\"Option 2: Price is {laptop_option_2} THB\")\n",
        "print(f\"Option 3: Price is {laptop_option_3} THB\")\n",
        "print(f\"Option 4: Price is {laptop_option_4} THB\")\n"
      ]
    }
  ]
}